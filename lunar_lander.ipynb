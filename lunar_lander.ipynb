{
 "cells": [
  {
   "cell_type": "code",
   "execution_count": 1,
   "metadata": {},
   "outputs": [
    {
     "name": "stderr",
     "output_type": "stream",
     "text": [
      "c:\\Users\\guilh\\anaconda3\\envs\\gym_pytorch\\Lib\\site-packages\\torchrl\\data\\replay_buffers\\samplers.py:37: UserWarning: Failed to import torchrl C++ binaries. Some modules (eg, prioritized replay buffers) may not work with your installation. If you installed TorchRL from PyPI, please report the bug on TorchRL github. If you installed TorchRL locally and/or in development mode, check that you have all the required compiling packages.\n",
      "  warnings.warn(EXTENSION_WARNING)\n"
     ]
    }
   ],
   "source": [
    "import gymnasium as gym\n",
    "import torch\n",
    "import torch.nn as nn\n",
    "import torch.optim as optim\n",
    "import torch.nn.functional as F\n",
    "import numpy as np\n",
    "from collections import namedtuple, deque\n",
    "import random\n",
    "import os\n",
    "from tensordict import TensorDict\n",
    "from torchrl.data import TensorDictReplayBuffer, LazyMemmapStorage"
   ]
  },
  {
   "cell_type": "code",
   "execution_count": 2,
   "metadata": {},
   "outputs": [],
   "source": [
    "env = gym.make(\"LunarLander-v2\")"
   ]
  },
  {
   "cell_type": "code",
   "execution_count": 3,
   "metadata": {},
   "outputs": [
    {
     "name": "stdout",
     "output_type": "stream",
     "text": [
      "Using device: cuda\n"
     ]
    }
   ],
   "source": [
    "device = torch.device(\"cuda\" if torch.cuda.is_available() else \"cpu\")\n",
    "print(f\"Using device: {device}\")"
   ]
  },
  {
   "cell_type": "code",
   "execution_count": 4,
   "metadata": {},
   "outputs": [],
   "source": [
    "class DQN(nn.Module):\n",
    "    def __init__(self, state_dim, action_dim, device):\n",
    "        super(DQN, self).__init__()\n",
    "        self.device = device\n",
    "        self.fc1 = nn.Linear(state_dim, 128).to(self.device)\n",
    "        self.fc2 = nn.Linear(128, 128).to(self.device)\n",
    "        self.fc3 = nn.Linear(128, 64).to(self.device)\n",
    "        self.fc4 = nn.Linear(64, action_dim).to(self.device)\n",
    "\n",
    "    def forward(self, state):\n",
    "        x = F.relu(self.fc1(state))\n",
    "        x = F.relu(self.fc2(x))\n",
    "        x = F.relu(self.fc3(x))\n",
    "        return self.fc4(x)\n"
   ]
  },
  {
   "cell_type": "code",
   "execution_count": 5,
   "metadata": {},
   "outputs": [],
   "source": [
    "BATCH_SIZE = 128\n",
    "GAMMA = .99\n",
    "EPS_START = 0.7\n",
    "EPS_END = 0.4\n",
    "EPS_DECAY = 0.99\n",
    "TAU = 0.005\n",
    "LR = 5*1e-6"
   ]
  },
  {
   "cell_type": "code",
   "execution_count": 6,
   "metadata": {},
   "outputs": [],
   "source": [
    "Transition = namedtuple('Transition',\n",
    "                        ('state', 'action', 'next_state', 'reward'))"
   ]
  },
  {
   "cell_type": "code",
   "execution_count": 7,
   "metadata": {},
   "outputs": [],
   "source": [
    "class ReplayMemory:\n",
    "    def __init__(self, capacity):\n",
    "        self.memory = deque(maxlen=capacity)\n",
    "\n",
    "    def push(self, state, action, next_state, reward):\n",
    "        action = torch.tensor([[action]], device=device, dtype=torch.long) if not isinstance(action, torch.Tensor) else action\n",
    "        reward = torch.tensor([reward], device=device, dtype=torch.float32)\n",
    "        self.memory.append((state, action, next_state, reward))\n",
    "    def sample(self, batch_size):\n",
    "        return random.sample(self.memory, batch_size)\n",
    "    def __len__(self):\n",
    "        return len(self.memory)"
   ]
  },
  {
   "cell_type": "code",
   "execution_count": 8,
   "metadata": {},
   "outputs": [],
   "source": [
    "\n",
    "class DDQNAgent:\n",
    "    def __init__(self, state_dim, action_dim, device, model_path=\"ddqn_lunar_lander.pth\"):\n",
    "        self.state_dim = state_dim\n",
    "        self.action_dim = action_dim\n",
    "        self.device = device\n",
    "        self.memory = ReplayMemory(1000000)\n",
    "        self.gamma = GAMMA  \n",
    "        self.epsilon = EPS_START  \n",
    "        self.epsilon_decay = 0.9999998\n",
    "        self.epsilon_min = EPS_END\n",
    "        self.learning_rate = LR\n",
    "        self.batch_size = BATCH_SIZE\n",
    "        self.model_path = model_path\n",
    "        self.policy_net = DQN(state_dim, action_dim, device)\n",
    "        self.target_net = DQN(state_dim, action_dim, device)\n",
    "        self.optimizer = optim.Adam(self.policy_net.parameters(), lr=self.learning_rate, amsgrad=True)\n",
    "        self.save_every = 5e5\n",
    "        self.steps = 0\n",
    "        if os.path.exists(self.model_path):\n",
    "            self.load_model()\n",
    "\n",
    "        self.target_net.load_state_dict(self.policy_net.state_dict())\n",
    "\n",
    "    def act(self, state, learn=True):\n",
    "        if (np.random.rand() < self.epsilon) and learn:\n",
    "            action_idx = np.random.randint(self.action_dim)\n",
    "        else:\n",
    "            with torch.no_grad():\n",
    "                q_values = self.policy_net(state)\n",
    "                action_idx = torch.argmax(q_values, dim=1).item()\n",
    "        self.epsilon *= self.epsilon_decay\n",
    "        self.epsilon = max(self.epsilon_min,self.epsilon)\n",
    "        self.steps += 1\n",
    "        return action_idx\n",
    "\n",
    "    def train(self):\n",
    "        if len(self.memory) < BATCH_SIZE:\n",
    "            return\n",
    "        transitions = self.memory.sample(BATCH_SIZE)\n",
    "        batch = Transition(*zip(*transitions))\n",
    "        non_final_mask = torch.tensor(tuple(map(lambda s: s is not None,\n",
    "                                          batch.next_state)), device=device, dtype=torch.bool)\n",
    "        non_final_next_states = torch.cat([s for s in batch.next_state\n",
    "                                                if s is not None])\n",
    "        state_batch = torch.cat(batch.state)\n",
    "        action_batch = torch.cat(batch.action)\n",
    "        reward_batch = torch.cat(batch.reward)\n",
    "\n",
    "        state_action_values = self.policy_net(state_batch).gather(1, action_batch)\n",
    "        next_state_values = torch.zeros(BATCH_SIZE, device=device)\n",
    "        with torch.no_grad():\n",
    "            next_state_values[non_final_mask] = self.target_net(non_final_next_states).max(1).values\n",
    "        expected_state_action_values = (next_state_values * GAMMA) + reward_batch\n",
    "\n",
    "        criterion = nn.SmoothL1Loss()\n",
    "        loss = criterion(state_action_values, expected_state_action_values.unsqueeze(1))\n",
    "\n",
    "        self.optimizer.zero_grad()\n",
    "        loss.backward()\n",
    "        #torch.nn.utils.clip_grad_value_(self.policy_net.parameters(), 100)\n",
    "        #self.optimizer.step()\n",
    "        torch.nn.utils.clip_grad_norm_(self.policy_net.parameters(), max_norm=10)  # Gradient clipping\n",
    "        self.optimizer.step()    \n",
    "\n",
    "    def save_model(self):\n",
    "        torch.save({\n",
    "            'model_state_dict': self.policy_net.state_dict(),\n",
    "            'optimizer_state_dict': self.optimizer.state_dict(),\n",
    "            'epsilon': self.epsilon\n",
    "        }, self.model_path)\n",
    "        print(f\"Model saved to {self.model_path}\")\n",
    "\n",
    "    def load_model(self):\n",
    "        checkpoint = torch.load(self.model_path, map_location=self.device)\n",
    "        self.policy_net.load_state_dict(checkpoint['model_state_dict'])\n",
    "        self.optimizer.load_state_dict(checkpoint['optimizer_state_dict'])\n",
    "        self.epsilon = checkpoint['epsilon']\n",
    "        print(f\"Model loaded from {self.model_path}\")\n",
    "\n",
    "\n",
    "    def update_policy(self):\n",
    "        target_net_state_dict = self.target_net.state_dict()\n",
    "        policy_net_state_dict = self.policy_net.state_dict()\n",
    "        for key in policy_net_state_dict:\n",
    "            target_net_state_dict[key] = policy_net_state_dict[key]*TAU + target_net_state_dict[key]*(1-TAU)\n",
    "        self.target_net.load_state_dict(target_net_state_dict)"
   ]
  },
  {
   "cell_type": "code",
   "execution_count": 9,
   "metadata": {},
   "outputs": [
    {
     "name": "stderr",
     "output_type": "stream",
     "text": [
      "C:\\Users\\guilh\\AppData\\Local\\Temp\\ipykernel_29344\\1993942560.py:74: FutureWarning: You are using `torch.load` with `weights_only=False` (the current default value), which uses the default pickle module implicitly. It is possible to construct malicious pickle data which will execute arbitrary code during unpickling (See https://github.com/pytorch/pytorch/blob/main/SECURITY.md#untrusted-models for more details). In a future release, the default value for `weights_only` will be flipped to `True`. This limits the functions that could be executed during unpickling. Arbitrary objects will no longer be allowed to be loaded via this mode unless they are explicitly allowlisted by the user via `torch.serialization.add_safe_globals`. We recommend you start setting `weights_only=True` for any use case where you don't have full control of the loaded file. Please open an issue on GitHub for any issues related to this experimental feature.\n",
      "  checkpoint = torch.load(self.model_path, map_location=self.device)\n"
     ]
    },
    {
     "name": "stdout",
     "output_type": "stream",
     "text": [
      "Model loaded from ddqn_lunar_lander.pth\n",
      "Model saved to ddqn_lunar_lander.pth\n",
      "Episode 50/100000, Total Reward: -22.81848196152022, Steps: 103, Epsilon: 0.4 Won: False Totalsteps: 5744\n",
      "Model saved to ddqn_lunar_lander.pth\n",
      "Episode 100/100000, Total Reward: -32.72084243084895, Steps: 66, Epsilon: 0.4 Won: False Totalsteps: 11546\n"
     ]
    }
   ],
   "source": [
    "\n",
    "agent = DDQNAgent(state_dim=8, action_dim=4, device=device)\n",
    "agent.learning_rate = 0.7\n",
    "episodes = 10000\n",
    "for e in range(episodes):\n",
    "    state = env.reset()\n",
    "    state = state[0] if isinstance(state, tuple) else state\n",
    "    state = torch.tensor(state, dtype=torch.float32, device=device).unsqueeze(0)\n",
    "    done = False\n",
    "    total_reward = 0\n",
    "    steps = 0\n",
    "    episode_steps = []\n",
    "    won = False\n",
    "    while not done:\n",
    "        action = agent.act(state)\n",
    "        next_state, reward, done, _, _ = env.step(action)\n",
    "        episode_steps.append((state.cpu().numpy(), action))\n",
    "        \n",
    "        if steps > 500:\n",
    "            reward = -100\n",
    "            done = True\n",
    "        if reward > 99:\n",
    "            won = True\n",
    "            done = True\n",
    "            total_reward += reward\n",
    "            print(f\"Episode {e+1}/{episodes}, Total Reward: {total_reward}, Steps: {steps}, Epsilon: {agent.epsilon} Won: {won} Totalsteps: {agent.steps}\")\n",
    "            if total_reward >= 200:\n",
    "                reward += 200\n",
    "                print('MEGAWIN')    \n",
    "        if reward < -0.1:\n",
    "            reward -= 0.05\n",
    "        if done:\n",
    "            next_state = None\n",
    "        else:\n",
    "            next_state = torch.tensor(next_state, dtype=torch.float32, device=device).unsqueeze(0)\n",
    "        \n",
    "        agent.memory.push(state, action, next_state, reward)\n",
    "        state = next_state\n",
    "        total_reward += reward\n",
    "        agent.train()\n",
    "        steps += 1\n",
    "        agent.update_policy()\n",
    "\n",
    "    # Save the model at regular intervals\n",
    "    if (e + 1) % 50 == 0:\n",
    "        agent.save_model()\n",
    "        print(f\"Episode {e+1}/{episodes}, Total Reward: {total_reward}, Steps: {steps}, Epsilon: {agent.epsilon} Won: {won} Totalsteps: {agent.steps}\")\n",
    "\n",
    "env.close()"
   ]
  },
  {
   "cell_type": "code",
   "execution_count": null,
   "metadata": {},
   "outputs": [],
   "source": [
    "import time\n",
    "print(\"Running a new episode with the trained agent...\")\n",
    "\n",
    "env = gym.make(\"LunarLander-v2\", render_mode=\"human\")\n",
    "\n",
    "state = env.reset()\n",
    "state = state[0] if isinstance(state, tuple) else state\n",
    "state = torch.tensor(state, dtype=torch.float32, device=device).unsqueeze(0)\n",
    "done = False\n",
    "total_reward = 0\n",
    "stepps = 0\n",
    "while not done:\n",
    "    env.render()\n",
    "    # Get the action from the trained agent with learn=False\n",
    "    action = agent.act(state, learn=False)\n",
    "    next_state, reward, done, _, _ = env.step(action)\n",
    "    state = torch.tensor(next_state, dtype=torch.float32, device=device).unsqueeze(0)\n",
    "    total_reward += reward\n",
    "    if reward > 95:\n",
    "            \n",
    "        won = True\n",
    "        done = True\n",
    "        print(f\"Total Reward: {total_reward} Won: {won} Steps: {stepps}\")      \n",
    "    \n",
    "    stepps += 1\n",
    "    # Add a small sleep to slow down the visualization\n",
    "    \n",
    "\n",
    "print(f\"New Episode: Total Reward: {total_reward}\")\n",
    "env.close()"
   ]
  }
 ],
 "metadata": {
  "kernelspec": {
   "display_name": "gym_pytorch",
   "language": "python",
   "name": "python3"
  },
  "language_info": {
   "codemirror_mode": {
    "name": "ipython",
    "version": 3
   },
   "file_extension": ".py",
   "mimetype": "text/x-python",
   "name": "python",
   "nbconvert_exporter": "python",
   "pygments_lexer": "ipython3",
   "version": "3.11.9"
  }
 },
 "nbformat": 4,
 "nbformat_minor": 2
}
